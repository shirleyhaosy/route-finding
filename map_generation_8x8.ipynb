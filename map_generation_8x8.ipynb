{
 "cells": [
  {
   "cell_type": "code",
   "execution_count": 1,
   "id": "a17038eb",
   "metadata": {},
   "outputs": [],
   "source": [
    "# try random policy on the kitty\n",
    "import gym\n",
    "import matplotlib.pyplot as plt\n",
    "import numpy as np\n",
    "import pandas as pd\n",
    "import imageio\n",
    "import sys\n",
    "from collections import defaultdict\n",
    "\n",
    "import random\n",
    "from datetime import datetime\n"
   ]
  },
  {
   "cell_type": "code",
   "execution_count": 378,
   "id": "0e03c931",
   "metadata": {},
   "outputs": [],
   "source": [
    "n_dim = 8\n",
    "num_holes_range = (10, 12)\n",
    "# initialize a map with all ice\n",
    "desc = ['F'* n_dim ]* n_dim\n",
    "\n",
    "# generate location of kitty (also pet home) and catfood\n",
    "# Regard kitty as starting point, catfood as goal\n",
    "K_loc, C_loc = [random.randint(0,n_dim-1), random.randint(0,n_dim-1)], \\\n",
    "                [random.randint(0,n_dim-1), random.randint(0,n_dim-1)]\n",
    "\n",
    "# reset catfood location if the locations are the same\n",
    "while (K_loc == C_loc) or ((K_loc[0] - C_loc[0])**2 + (K_loc[1] - C_loc[1])**2)<25:\n",
    "    C_loc = [random.randint(0,n_dim-1), random.randint(0,n_dim-1)]\n",
    "    \n",
    "    \n",
    "# generate number of holes \n",
    "num_holes = random.randint(num_holes_range[0], num_holes_range[1])\n",
    "H_loc_list = list()\n",
    "# generate location of each hole\n",
    "for i in range(num_holes):\n",
    "    h_loc = [random.randint(0, n_dim-1), random.randint(0, n_dim-1)]\n",
    "    while h_loc == K_loc or h_loc == C_loc or h_loc in H_loc_list:\n",
    "        h_loc = [random.randint(0, n_dim-1), random.randint(0, n_dim-1)]\n",
    "    H_loc_list.append(h_loc)\n",
    "    \n",
    "\n",
    "# update desc\n",
    "# add holes to map\n",
    "for loc in H_loc_list:\n",
    "    desc[loc[0]] = desc[loc[0]][:loc[1]]+'H'+desc[loc[0]][loc[1]+1:]\n",
    "\n",
    "# update desc\n",
    "# kitty is kitty\n",
    "# catfood is catfood\n",
    "desc[K_loc[0]] = desc[K_loc[0]][:K_loc[1]]+'K'+desc[K_loc[0]][K_loc[1]+1:]\n",
    "desc[C_loc[0]] = desc[C_loc[0]][:C_loc[1]]+'C'+desc[C_loc[0]][C_loc[1]+1:]\n",
    "\n",
    "# generate location of kitty and catfood\n",
    "# Regard kitty as starting point, catfood as goal\n",
    "S_loc, G_loc = [random.randint(0,n_dim-1), random.randint(0,n_dim-1)], \\\n",
    "                [random.randint(0,n_dim-1), random.randint(0,n_dim-1)]\n",
    "\n",
    "# reset Start location if the location is the same as previous ones\n",
    "while S_loc == K_loc or S_loc == C_loc or S_loc in H_loc_list:\n",
    "    S_loc = [random.randint(0,n_dim-1), random.randint(0,n_dim-1)]\n",
    "# reset Goal location if the location is the same as previous ones\n",
    "while G_loc == K_loc or G_loc == C_loc or G_loc in H_loc_list or G_loc == S_loc \\\n",
    "    or ((G_loc[0] - S_loc[0])**2 + (G_loc[1] - S_loc[1])**2) < 30:\n",
    "    G_loc = [random.randint(0,n_dim-1), random.randint(0,n_dim-1)]\n",
    "    \n",
    "# update desc\n",
    "desc[S_loc[0]] = desc[S_loc[0]][:S_loc[1]]+'S'+desc[S_loc[0]][S_loc[1]+1:]\n",
    "desc[G_loc[0]] = desc[G_loc[0]][:G_loc[1]]+'G'+desc[G_loc[0]][G_loc[1]+1:]\n"
   ]
  },
  {
   "cell_type": "code",
   "execution_count": 415,
   "id": "b227d8cc",
   "metadata": {},
   "outputs": [
    {
     "data": {
      "text/plain": [
       "['FFFFFFFH',\n",
       " 'FFFFFGFF',\n",
       " 'HHFFFHHF',\n",
       " 'FFHFHHFF',\n",
       " 'FFFFFFFF',\n",
       " 'HCFFFFKF',\n",
       " 'FFFFFFFF',\n",
       " 'SFHFFFFH']"
      ]
     },
     "execution_count": 415,
     "metadata": {},
     "output_type": "execute_result"
    }
   ],
   "source": [
    "desc"
   ]
  },
  {
   "cell_type": "code",
   "execution_count": 418,
   "id": "00a74bf6",
   "metadata": {},
   "outputs": [],
   "source": [
    "with open(r'map_8_8_v0.txt', 'w') as fp:\n",
    "    for item in desc:\n",
    "        fp.write(\"%s\\n\" % item)\n",
    "# map_8_8_v1.txt: manually modified based on v0 such that the shortest path of pet home to food is crossed with\n",
    "# that of starting point to goal"
   ]
  },
  {
   "cell_type": "code",
   "execution_count": null,
   "id": "ca93f70e",
   "metadata": {},
   "outputs": [],
   "source": []
  },
  {
   "cell_type": "code",
   "execution_count": null,
   "id": "97526287",
   "metadata": {},
   "outputs": [],
   "source": []
  },
  {
   "cell_type": "code",
   "execution_count": null,
   "id": "fb115fa7",
   "metadata": {},
   "outputs": [],
   "source": []
  },
  {
   "cell_type": "code",
   "execution_count": null,
   "id": "55961a9f",
   "metadata": {},
   "outputs": [],
   "source": []
  },
  {
   "cell_type": "code",
   "execution_count": null,
   "id": "6d46b84f",
   "metadata": {},
   "outputs": [],
   "source": []
  },
  {
   "cell_type": "code",
   "execution_count": null,
   "id": "3eb4ed89",
   "metadata": {},
   "outputs": [],
   "source": []
  },
  {
   "cell_type": "code",
   "execution_count": null,
   "id": "419e8a6d",
   "metadata": {},
   "outputs": [],
   "source": []
  },
  {
   "cell_type": "code",
   "execution_count": null,
   "id": "874af2b5",
   "metadata": {},
   "outputs": [],
   "source": []
  },
  {
   "cell_type": "code",
   "execution_count": null,
   "id": "5ca33d2f",
   "metadata": {},
   "outputs": [],
   "source": []
  },
  {
   "cell_type": "code",
   "execution_count": null,
   "id": "6a7b0394",
   "metadata": {},
   "outputs": [],
   "source": []
  },
  {
   "cell_type": "code",
   "execution_count": null,
   "id": "2b824b63",
   "metadata": {},
   "outputs": [],
   "source": []
  },
  {
   "cell_type": "code",
   "execution_count": null,
   "id": "cf50dd96",
   "metadata": {},
   "outputs": [],
   "source": []
  },
  {
   "cell_type": "code",
   "execution_count": null,
   "id": "bda95074",
   "metadata": {},
   "outputs": [],
   "source": []
  },
  {
   "cell_type": "code",
   "execution_count": null,
   "id": "8a5dc1d3",
   "metadata": {},
   "outputs": [],
   "source": []
  },
  {
   "cell_type": "code",
   "execution_count": null,
   "id": "8581cb96",
   "metadata": {},
   "outputs": [],
   "source": []
  },
  {
   "cell_type": "code",
   "execution_count": null,
   "id": "d6bc156e",
   "metadata": {},
   "outputs": [],
   "source": []
  },
  {
   "cell_type": "code",
   "execution_count": null,
   "id": "efc892fa",
   "metadata": {},
   "outputs": [],
   "source": []
  },
  {
   "cell_type": "code",
   "execution_count": null,
   "id": "3b187e54",
   "metadata": {},
   "outputs": [],
   "source": []
  },
  {
   "cell_type": "code",
   "execution_count": null,
   "id": "2214ae0f",
   "metadata": {},
   "outputs": [],
   "source": []
  },
  {
   "cell_type": "code",
   "execution_count": null,
   "id": "64fc899a",
   "metadata": {},
   "outputs": [],
   "source": []
  },
  {
   "cell_type": "code",
   "execution_count": null,
   "id": "aa522b14",
   "metadata": {},
   "outputs": [],
   "source": []
  },
  {
   "cell_type": "code",
   "execution_count": null,
   "id": "25aea91e",
   "metadata": {},
   "outputs": [],
   "source": []
  },
  {
   "cell_type": "code",
   "execution_count": null,
   "id": "bb70234a",
   "metadata": {},
   "outputs": [],
   "source": []
  },
  {
   "cell_type": "code",
   "execution_count": null,
   "id": "82b4ac1e",
   "metadata": {},
   "outputs": [],
   "source": []
  },
  {
   "cell_type": "code",
   "execution_count": null,
   "id": "372d3d8a",
   "metadata": {},
   "outputs": [],
   "source": []
  },
  {
   "cell_type": "code",
   "execution_count": null,
   "id": "b61bce32",
   "metadata": {},
   "outputs": [],
   "source": []
  },
  {
   "cell_type": "code",
   "execution_count": null,
   "id": "b5082a1d",
   "metadata": {},
   "outputs": [],
   "source": []
  },
  {
   "cell_type": "code",
   "execution_count": null,
   "id": "89669e72",
   "metadata": {},
   "outputs": [],
   "source": []
  },
  {
   "cell_type": "code",
   "execution_count": null,
   "id": "015e93de",
   "metadata": {},
   "outputs": [],
   "source": []
  },
  {
   "cell_type": "code",
   "execution_count": null,
   "id": "b6ca2394",
   "metadata": {},
   "outputs": [],
   "source": []
  },
  {
   "cell_type": "code",
   "execution_count": null,
   "id": "de4e803d",
   "metadata": {},
   "outputs": [],
   "source": []
  },
  {
   "cell_type": "code",
   "execution_count": null,
   "id": "35d90137",
   "metadata": {},
   "outputs": [],
   "source": []
  },
  {
   "cell_type": "code",
   "execution_count": null,
   "id": "39c12b28",
   "metadata": {},
   "outputs": [],
   "source": []
  },
  {
   "cell_type": "code",
   "execution_count": null,
   "id": "6a99a1c0",
   "metadata": {},
   "outputs": [],
   "source": []
  },
  {
   "cell_type": "code",
   "execution_count": null,
   "id": "0362b9cc",
   "metadata": {},
   "outputs": [],
   "source": []
  },
  {
   "cell_type": "code",
   "execution_count": null,
   "id": "58eecf60",
   "metadata": {},
   "outputs": [],
   "source": []
  },
  {
   "cell_type": "code",
   "execution_count": null,
   "id": "954a6756",
   "metadata": {},
   "outputs": [],
   "source": []
  },
  {
   "cell_type": "code",
   "execution_count": null,
   "id": "695f4f02",
   "metadata": {},
   "outputs": [],
   "source": []
  },
  {
   "cell_type": "code",
   "execution_count": null,
   "id": "c5eaf493",
   "metadata": {},
   "outputs": [],
   "source": []
  },
  {
   "cell_type": "code",
   "execution_count": null,
   "id": "41fb2d4f",
   "metadata": {},
   "outputs": [],
   "source": []
  },
  {
   "cell_type": "code",
   "execution_count": null,
   "id": "8ba4e012",
   "metadata": {},
   "outputs": [],
   "source": []
  },
  {
   "cell_type": "code",
   "execution_count": null,
   "id": "1f747f45",
   "metadata": {},
   "outputs": [],
   "source": []
  },
  {
   "cell_type": "code",
   "execution_count": null,
   "id": "b582036a",
   "metadata": {},
   "outputs": [],
   "source": []
  },
  {
   "cell_type": "code",
   "execution_count": null,
   "id": "7578b136",
   "metadata": {},
   "outputs": [],
   "source": []
  },
  {
   "cell_type": "code",
   "execution_count": null,
   "id": "1e86804e",
   "metadata": {},
   "outputs": [],
   "source": []
  },
  {
   "cell_type": "code",
   "execution_count": null,
   "id": "0da7da4a",
   "metadata": {},
   "outputs": [],
   "source": []
  },
  {
   "cell_type": "code",
   "execution_count": null,
   "id": "fead9dbf",
   "metadata": {},
   "outputs": [],
   "source": []
  },
  {
   "cell_type": "code",
   "execution_count": null,
   "id": "b423f749",
   "metadata": {},
   "outputs": [],
   "source": []
  },
  {
   "cell_type": "code",
   "execution_count": null,
   "id": "10736411",
   "metadata": {},
   "outputs": [],
   "source": []
  },
  {
   "cell_type": "code",
   "execution_count": null,
   "id": "fdb4d7f7",
   "metadata": {},
   "outputs": [],
   "source": []
  },
  {
   "cell_type": "code",
   "execution_count": null,
   "id": "baa0e1c3",
   "metadata": {},
   "outputs": [],
   "source": []
  },
  {
   "cell_type": "code",
   "execution_count": null,
   "id": "99f0c050",
   "metadata": {},
   "outputs": [],
   "source": []
  },
  {
   "cell_type": "code",
   "execution_count": null,
   "id": "7dc563a2",
   "metadata": {},
   "outputs": [],
   "source": []
  },
  {
   "cell_type": "code",
   "execution_count": null,
   "id": "8ef316c1",
   "metadata": {},
   "outputs": [],
   "source": []
  },
  {
   "cell_type": "code",
   "execution_count": null,
   "id": "79a7a622",
   "metadata": {},
   "outputs": [],
   "source": []
  },
  {
   "cell_type": "code",
   "execution_count": null,
   "id": "e40f21f9",
   "metadata": {},
   "outputs": [],
   "source": []
  },
  {
   "cell_type": "code",
   "execution_count": null,
   "id": "adb2e740",
   "metadata": {},
   "outputs": [],
   "source": []
  },
  {
   "cell_type": "code",
   "execution_count": null,
   "id": "df29f292",
   "metadata": {},
   "outputs": [],
   "source": []
  },
  {
   "cell_type": "code",
   "execution_count": null,
   "id": "e135f601",
   "metadata": {},
   "outputs": [],
   "source": []
  },
  {
   "cell_type": "code",
   "execution_count": null,
   "id": "fc80ace7",
   "metadata": {},
   "outputs": [],
   "source": []
  },
  {
   "cell_type": "code",
   "execution_count": null,
   "id": "a055c885",
   "metadata": {},
   "outputs": [],
   "source": []
  },
  {
   "cell_type": "code",
   "execution_count": null,
   "id": "50fdfe9e",
   "metadata": {},
   "outputs": [],
   "source": []
  },
  {
   "cell_type": "code",
   "execution_count": null,
   "id": "ef41e1d3",
   "metadata": {},
   "outputs": [],
   "source": []
  },
  {
   "cell_type": "code",
   "execution_count": null,
   "id": "b14b3123",
   "metadata": {},
   "outputs": [],
   "source": []
  },
  {
   "cell_type": "code",
   "execution_count": null,
   "id": "ae7cc4f1",
   "metadata": {},
   "outputs": [],
   "source": []
  },
  {
   "cell_type": "code",
   "execution_count": null,
   "id": "0fd32369",
   "metadata": {},
   "outputs": [],
   "source": []
  }
 ],
 "metadata": {
  "kernelspec": {
   "display_name": "Python 3 (ipykernel)",
   "language": "python",
   "name": "python3"
  },
  "language_info": {
   "codemirror_mode": {
    "name": "ipython",
    "version": 3
   },
   "file_extension": ".py",
   "mimetype": "text/x-python",
   "name": "python",
   "nbconvert_exporter": "python",
   "pygments_lexer": "ipython3",
   "version": "3.9.13"
  }
 },
 "nbformat": 4,
 "nbformat_minor": 5
}
