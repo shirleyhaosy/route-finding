{
 "cells": [
  {
   "cell_type": "code",
   "execution_count": 1,
   "id": "a17038eb",
   "metadata": {},
   "outputs": [],
   "source": [
    "# try random policy on the kitty\n",
    "import gym\n",
    "import matplotlib.pyplot as plt\n",
    "import numpy as np\n",
    "import pandas as pd\n",
    "import imageio\n",
    "import sys\n",
    "from collections import defaultdict\n",
    "\n",
    "import random\n",
    "from datetime import datetime\n",
    "n_epi = 200\n",
    "run_type = 'lifelong'\n",
    "alpha = 0.5\n",
    "epsilon = 0.01\n",
    "n_steps = 200\n",
    "\n",
    "act_dict = {\n",
    "    \"LEFT\": 0,\n",
    "    \"DOWN\": 1,\n",
    "    \"RIGHT\": 2,\n",
    "    \"UP\": 3,\n",
    "    \"PAUSE\": 4,\n",
    "}"
   ]
  },
  {
   "cell_type": "code",
   "execution_count": 2,
   "id": "dabe7005",
   "metadata": {},
   "outputs": [],
   "source": [
    "def train_plot(agent, direction, epi_iter, epi_reward, n_epi = n_epi, run_type = run_type):\n",
    "    fig, axs = plt.subplots(2)\n",
    "    axs[0].set_title(f'{n_epi} Episodes and iterations - {agent}_{direction}')\n",
    "    axs[0].set_xlabel('Number of episodes')\n",
    "    axs[0].set_ylabel('Number of iterations')\n",
    "    axs[1].set_title(f'{n_epi} Episodes and reward - {agent}_{direction}')\n",
    "    axs[1].set_xlabel('Number of episodes')\n",
    "    axs[1].set_ylabel('Reward')\n",
    "    axs[0].plot(epi_iter)\n",
    "    axs[1].plot(epi_reward)\n",
    "    fig.tight_layout()\n",
    "\n",
    "    plt.savefig(f'Plot/{n_dim}x{n_dim}_{n_epi} Episodes and iterations - {agent}_{direction}_{run_type}_method_1.png',\\\n",
    "                bbox_inches='tight')\n"
   ]
  },
  {
   "cell_type": "code",
   "execution_count": 3,
   "id": "951fdc88",
   "metadata": {},
   "outputs": [],
   "source": [
    "desc_file = open(\"map_14_14_v1.txt\", \"r\") \n",
    "  \n",
    "desc_content = desc_file.read() \n",
    "\n",
    "desc = desc_content.split(\"\\n\") \n",
    "desc = [d for d in desc if d!='']\n",
    "desc_file.close() \n",
    "n_dim = len(desc[0])\n",
    "\n",
    "# location of kitty, cat food, pet home, starting point, goal point\n",
    "K_loc, C_loc, P_loc, S_loc, G_loc = list(), list(), list(), list(), list()\n",
    "\n",
    "for i in range(len(desc)):\n",
    "    if 'K' in desc[i]:\n",
    "        K_loc.extend([i, desc[i].index('K')])\n",
    "    if 'C' in desc[i]:\n",
    "        C_loc.extend([i, desc[i].index('C')])\n",
    "    if 'S' in desc[i]:\n",
    "        S_loc.extend([i, desc[i].index('S')])\n",
    "    if 'G' in desc[i]:\n",
    "        G_loc.extend([i, desc[i].index('G')])\n",
    "\n",
    "# kitty location is the same as pet home location initially\n",
    "P_loc.extend([K_loc[0], K_loc[1]])\n",
    "        \n",
    "\n",
    "# locate holes \n",
    "H_loc_list = list()\n",
    "for i in range(len(desc)):\n",
    "    for d in range(len(desc[i])):\n",
    "        if desc[i][d] == 'H':\n",
    "            H_loc_list.append([i, d])"
   ]
  },
  {
   "cell_type": "code",
   "execution_count": 4,
   "id": "02367ec3",
   "metadata": {},
   "outputs": [
    {
     "data": {
      "text/plain": [
       "['FFHHFFFFHFHFFG',\n",
       " 'FFHHFFFFHFFFHF',\n",
       " 'FFFFFHFFHFFFFF',\n",
       " 'KFFFHFHFHFFFFF',\n",
       " 'HFFHFHFFFFHFFF',\n",
       " 'FFFHHFHFFFFHFF',\n",
       " 'FFFFFFFFFFFFFF',\n",
       " 'FFFFHFHFFHFFFF',\n",
       " 'FFFHFFFHFFCFHF',\n",
       " 'FFFHFFFFFFFHFF',\n",
       " 'FFSFFFHFFFFFFH',\n",
       " 'FHHFFHFFFFHFFH',\n",
       " 'FFHFFHFFFFFFFF',\n",
       " 'FFFFFFHFFFFHFF']"
      ]
     },
     "execution_count": 4,
     "metadata": {},
     "output_type": "execute_result"
    }
   ],
   "source": [
    "desc"
   ]
  },
  {
   "cell_type": "code",
   "execution_count": 4,
   "id": "736cd7da",
   "metadata": {},
   "outputs": [],
   "source": [
    "# remove S and G first and use P and C as starting point and goal to train kitty's Q-table\n",
    "desc[S_loc[0]] = desc[S_loc[0]][:S_loc[1]]+'F'+desc[S_loc[0]][S_loc[1]+1:]\n",
    "desc[G_loc[0]] = desc[G_loc[0]][:G_loc[1]]+'F'+desc[G_loc[0]][G_loc[1]+1:]\n",
    "desc[P_loc[0]] = desc[P_loc[0]][:P_loc[1]]+'S'+desc[P_loc[0]][P_loc[1]+1:]\n",
    "desc[C_loc[0]] = desc[C_loc[0]][:C_loc[1]]+'G'+desc[C_loc[0]][C_loc[1]+1:]\n",
    "\n",
    "# env that the kitty heading for food\n",
    "kitty_env_food = gym.make('FrozenLake-v1', desc=desc, is_slippery=False, render_mode = 'rgb_array')"
   ]
  },
  {
   "cell_type": "code",
   "execution_count": 5,
   "id": "82458cda",
   "metadata": {},
   "outputs": [
    {
     "name": "stdout",
     "output_type": "stream",
     "text": [
      "Episode: 200"
     ]
    }
   ],
   "source": [
    "def epsilon_greedy(env, epsilon, num_act, Q):\n",
    "    \"\"\"\n",
    "    return a function to compute probability of choosing each action on the given state\n",
    "    \"\"\"\n",
    "    def policy_s(state):\n",
    "        action_probs = np.full(num_act,epsilon/num_act)\n",
    "        a = np.argmax(Q[state])\n",
    "        action_probs[a] += (1-epsilon)\n",
    "        \n",
    "        return action_probs\n",
    "    return policy_s\n",
    "\n",
    "\n",
    "\n",
    "def Q_learning_kitty(env, num_episodes = n_epi, discount_factor = 1.0, alpha = 0.5, epsilon = 0.1):\n",
    "\n",
    "    Q = defaultdict(lambda: np.zeros(env.action_space.n)) # initialize Q-value\n",
    "    # get num of actions\n",
    "    nA = env.action_space.n\n",
    "    policy = epsilon_greedy(env, epsilon, nA, Q)\n",
    "    \n",
    "    # to record for each record, how many iterations it takes to reach termination\n",
    "    episode_iterations = np.zeros(num_episodes)\n",
    "    # to record for each record, how much reward it got eventually\n",
    "    episode_reward = np.zeros(num_episodes)\n",
    "    \n",
    "    for i_epi in range(num_episodes):\n",
    "\n",
    "        if (i_epi+1) %100 == 0:\n",
    "            print(\"\\rEpisode: {}\".format(i_epi+1), flush = True, end=\"\")\n",
    "        # initialize state    \n",
    "        state = env.reset()[0]\n",
    "        num_iter = 1\n",
    "        \n",
    "        while True:\n",
    "            act_probs = policy(state)\n",
    "            # randomly choose an action following probability in act_probs\n",
    "            action = np.random.choice(len(act_probs), p = act_probs)\n",
    "            next_state, reward, terminated, truncated, info = env.step(action)\n",
    "            \n",
    "            max_next_Q = max(Q[next_state])\n",
    "            Q[state][action] += alpha *(reward + discount_factor * max_next_Q - Q[state][action])\n",
    "            \n",
    "            episode_iterations[i_epi] = num_iter+1\n",
    "            episode_reward[i_epi] += reward\n",
    "            \n",
    "            if terminated:\n",
    "                break\n",
    "            \n",
    "            state = next_state\n",
    "            num_iter += 1\n",
    "        \n",
    "    return Q, episode_iterations, episode_reward\n",
    "     \n",
    "Q_kitty_food, episode_iterations_kitty_food, episode_reward_kitty_food = Q_learning_kitty(kitty_env_food)"
   ]
  },
  {
   "cell_type": "code",
   "execution_count": 6,
   "id": "fdd7de1d",
   "metadata": {},
   "outputs": [
    {
     "name": "stdout",
     "output_type": "stream",
     "text": [
      "Episode: 200"
     ]
    }
   ],
   "source": [
    "# use P and C as goal and starting point to train kitty's Q-table\n",
    "# for case that the kitty is heading for pet home\n",
    "\n",
    "desc[P_loc[0]] = desc[P_loc[0]][:P_loc[1]]+'G'+desc[P_loc[0]][P_loc[1]+1:]\n",
    "desc[C_loc[0]] = desc[C_loc[0]][:C_loc[1]]+'S'+desc[C_loc[0]][C_loc[1]+1:]\n",
    "\n",
    "# env that the kitty heading for home\n",
    "kitty_env_home = gym.make('FrozenLake-v1', desc=desc, is_slippery=False, render_mode = 'rgb_array')\n",
    "\n",
    "Q_kitty_home, episode_iterations_kitty_home, episode_reward_kitty_home = Q_learning_kitty(kitty_env_home)"
   ]
  },
  {
   "cell_type": "code",
   "execution_count": 7,
   "id": "f55cca1e",
   "metadata": {
    "scrolled": true
   },
   "outputs": [
    {
     "data": {
      "image/png": "[encoded data removed]",
      "text/plain": [
       "<Figure size 640x480 with 2 Axes>"
      ]
     },
     "metadata": {},
     "output_type": "display_data"
    }
   ],
   "source": [
    "# plot training statistics for kitty\n",
    "train_plot('kitty', 'food', episode_iterations_kitty_food, episode_reward_kitty_food)\n"
   ]
  },
  {
   "cell_type": "code",
   "execution_count": 8,
   "id": "019d1ff2",
   "metadata": {
    "scrolled": true
   },
   "outputs": [
    {
     "data": {
      "image/png": "[encoded data removed]",
      "text/plain": [
       "<Figure size 640x480 with 2 Axes>"
      ]
     },
     "metadata": {},
     "output_type": "display_data"
    }
   ],
   "source": [
    "train_plot('kitty', 'home', episode_iterations_kitty_home, episode_reward_kitty_home)"
   ]
  },
  {
   "cell_type": "code",
   "execution_count": 9,
   "id": "76208b84",
   "metadata": {},
   "outputs": [],
   "source": [
    "kitty_info = {\n",
    "    'k': K_loc,\n",
    "    'home': P_loc, \n",
    "    # if kitty is seeking food or home. True for food\n",
    "    'if_food' : True,\n",
    "    'food' : C_loc,\n",
    "    'holes' : H_loc_list,\n",
    "    'start' : S_loc,\n",
    "    'goal' : G_loc,\n",
    "    }\n",
    "\n",
    "def kitty_move(env, kitty, num_dim, Q_k_food, Q_k_home, num_k_box):\n",
    "    \n",
    "    env, kitty = to_original_component(env, kitty)\n",
    "    # compute kitty's state\n",
    "    k_state = kitty['k'][0] * num_dim + kitty['k'][1] \n",
    "    \n",
    "    if kitty['if_food']: # if heading for food\n",
    "        # compute kitty's action based on the Q-table\n",
    "        k_act = np.argmax(Q_k_food[k_state])\n",
    "    else:\n",
    "        k_act = np.argmax(Q_k_home[k_state])\n",
    "        \n",
    "    if k_act == 0: # LEFT\n",
    "        kitty['k'][1] = max(kitty['k'][1]-1, 0)\n",
    "    elif k_act ==1: # DOWN\n",
    "        kitty['k'][0] = min(kitty['k'][0]+1, num_dim -1)\n",
    "    elif k_act == 2: # RIGHT\n",
    "        kitty['k'][1] = min(kitty['k'][1]+1, num_dim -1)\n",
    "    elif k_act ==3: # UP\n",
    "        kitty['k'][0] = max(kitty['k'][0]-1, 0)\n",
    "\n",
    "    env.desc[kitty['k'][0], kitty['k'][1]] = b'K'\n",
    "    \n",
    "    # update kitty's direction if needed\n",
    "    if kitty['k'][0] == kitty['food'][0] and kitty['k'][1] == kitty['food'][1]:\n",
    "        kitty['if_food'] = False # once reach food, head for home\n",
    "        num_k_box += 1 # number of boxes delivered by kitty +1\n",
    "    elif kitty['k'][0] == kitty['home'][0] and kitty['k'][1] == kitty['home'][1]:\n",
    "        kitty['if_food'] = True # once reach home, head for food\n",
    "    return env, kitty, num_k_box\n",
    "\n",
    "\n",
    "def to_original_component(env, kitty):\n",
    "    # change kitty's current location to the original component\n",
    "    if kitty['k'] == kitty['food']:\n",
    "        env.desc[kitty['k'][0], kitty['k'][1]] = b'C'\n",
    "    elif kitty['k'] in kitty['holes']:\n",
    "        env.desc[kitty['k'][0], kitty['k'][1]] = b'H'\n",
    "    elif kitty['k'] == kitty['start']:\n",
    "        env.desc[kitty['k'][0], kitty['k'][1]] = b'S'\n",
    "    elif kitty['k'] == kitty['goal']:\n",
    "        env.desc[kitty['k'][0], kitty['k'][1]] = b'G'\n",
    "    elif kitty['k'] == kitty['home']:    \n",
    "        env.desc[kitty['k'][0], kitty['k'][1]] = b'P'\n",
    "    else:\n",
    "        env.desc[kitty['k'][0], kitty['k'][1]] = b'F'\n",
    "    return env, kitty\n",
    "\n"
   ]
  },
  {
   "cell_type": "code",
   "execution_count": 10,
   "id": "23a67507",
   "metadata": {
    "scrolled": false
   },
   "outputs": [
    {
     "name": "stdout",
     "output_type": "stream",
     "text": [
      "Episode: 200"
     ]
    }
   ],
   "source": [
    "# put S, G, K, C back to train elf's Q-table when elf is heading to goal\n",
    "# pet home is coverred by kitty initially\n",
    "desc[S_loc[0]] = desc[S_loc[0]][:S_loc[1]]+'S'+desc[S_loc[0]][S_loc[1]+1:]\n",
    "desc[G_loc[0]] = desc[G_loc[0]][:G_loc[1]]+'G'+desc[G_loc[0]][G_loc[1]+1:]\n",
    "desc[P_loc[0]] = desc[P_loc[0]][:P_loc[1]]+'K'+desc[P_loc[0]][P_loc[1]+1:]\n",
    "#desc[K_loc[0]] = desc[K_loc[0]][:K_loc[1]]+'K'+desc[K_loc[0]][K_loc[1]+1:]\n",
    "desc[C_loc[0]] = desc[C_loc[0]][:C_loc[1]]+'C'+desc[C_loc[0]][C_loc[1]+1:]\n",
    "\n",
    "# env where the elf is heading for goal\n",
    "env_g = gym.make('FrozenLake-v1', desc=desc, is_slippery=False, render_mode = 'rgb_array')\n",
    "\n",
    "\n",
    "\n",
    "def Q_learning(env, kitty, num_episodes = n_epi, Q_k_food = Q_kitty_food, Q_k_home = Q_kitty_home, \\\n",
    "               num_dim = n_dim, discount_factor = 1.0, alpha = 0.5, epsilon = 0.1):\n",
    "    \n",
    "    Q = defaultdict(lambda: np.zeros(env.action_space.n)) # initialize Q-value\n",
    "    # get num of actions\n",
    "    nA = env.action_space.n\n",
    "    policy = epsilon_greedy(env, epsilon, nA, Q)\n",
    "    \n",
    "    # to record for each record, how many iterations it takes to reach termination\n",
    "    episode_iterations = np.zeros(num_episodes)\n",
    "    # to record for each record, how much reward it got eventually\n",
    "    episode_reward = np.zeros(num_episodes)\n",
    "    \n",
    "    for i_epi in range(num_episodes):\n",
    "\n",
    "        if (i_epi+1) %100 == 0:\n",
    "            print(\"\\rEpisode: {}\".format(i_epi+1), flush = True, end=\"\")\n",
    "        # initialize elf's state    \n",
    "        state = env.reset()[0]\n",
    "        \n",
    "        # convert current location of kitty to its original component\n",
    "        env, kitty = to_original_component(env, kitty)\n",
    "        \n",
    "        # reset kitty's location to kitty's home for each episode\n",
    "        kitty['k'][0], kitty['k'][1] = kitty['home'][0], kitty['home'][1]  \n",
    "        env.desc[kitty['k'][0], kitty['k'][1]] = b'K'\n",
    "        env.desc[kitty['food'][0], kitty['food'][1]] = b'C'\n",
    "        \n",
    "        num_iter = 1\n",
    "        num_k_box = 0\n",
    "        \n",
    "        while True:\n",
    "            # choose kitty's action based on kitty's Q table first\n",
    "            env, kitty, num_k_box = kitty_move(env, kitty, num_dim, Q_k_food, Q_k_home, num_k_box)\n",
    "            \n",
    "            act_probs = policy(state)\n",
    "            # randomly choose an action following probability in act_probs\n",
    "            action = np.random.choice(len(act_probs), p = act_probs)\n",
    "            next_state, reward, terminated, truncated, info = env.step(action)\n",
    "            \n",
    "            max_next_Q = max(Q[next_state])\n",
    "            Q[state][action] += alpha *(reward + discount_factor * max_next_Q - Q[state][action])\n",
    "            \n",
    "            episode_iterations[i_epi] = num_iter+1\n",
    "            episode_reward[i_epi] += reward\n",
    "            \n",
    "            if terminated:\n",
    "                break\n",
    "            \n",
    "            state = next_state\n",
    "            num_iter += 1\n",
    "        \n",
    "    return Q, episode_iterations, episode_reward\n",
    "\n",
    "\n",
    "\n",
    "Q_g, episode_iterations_g, episode_reward_g = Q_learning(env_g, kitty=kitty_info)"
   ]
  },
  {
   "cell_type": "code",
   "execution_count": null,
   "id": "72235200",
   "metadata": {},
   "outputs": [],
   "source": []
  },
  {
   "cell_type": "code",
   "execution_count": 11,
   "id": "85df9b0c",
   "metadata": {},
   "outputs": [
    {
     "name": "stdout",
     "output_type": "stream",
     "text": [
      "Episode: 200"
     ]
    }
   ],
   "source": [
    "# Reverse S, G to train elf's Q-table when elf is heading to starting point\n",
    "desc[S_loc[0]] = desc[S_loc[0]][:S_loc[1]]+'G'+desc[S_loc[0]][S_loc[1]+1:]\n",
    "desc[G_loc[0]] = desc[G_loc[0]][:G_loc[1]]+'S'+desc[G_loc[0]][G_loc[1]+1:]\n",
    "\n",
    "# env where the elf is heading for starting point\n",
    "env_s = gym.make('FrozenLake-v1', desc=desc, is_slippery=False, render_mode = 'rgb_array')\n",
    "\n",
    "Q_s, episode_iterations_s, episode_reward_s = Q_learning(env_s, kitty=kitty_info)"
   ]
  },
  {
   "cell_type": "code",
   "execution_count": 12,
   "id": "127fbfb1",
   "metadata": {
    "scrolled": true
   },
   "outputs": [
    {
     "data": {
      "image/png": "[encoded data removed]",
      "text/plain": [
       "<Figure size 640x480 with 2 Axes>"
      ]
     },
     "metadata": {},
     "output_type": "display_data"
    }
   ],
   "source": [
    "# plot training statistics for elf\n",
    "train_plot('elf', 'goal', episode_iterations_g, episode_reward_g)"
   ]
  },
  {
   "cell_type": "code",
   "execution_count": 13,
   "id": "21aa23db",
   "metadata": {
    "scrolled": true
   },
   "outputs": [
    {
     "data": {
      "image/png": "[encoded data removed]",
      "text/plain": [
       "<Figure size 640x480 with 2 Axes>"
      ]
     },
     "metadata": {},
     "output_type": "display_data"
    }
   ],
   "source": [
    "train_plot('elf', 'start', episode_iterations_s, episode_reward_s)"
   ]
  },
  {
   "cell_type": "code",
   "execution_count": null,
   "id": "a65b52ed",
   "metadata": {},
   "outputs": [],
   "source": []
  },
  {
   "cell_type": "code",
   "execution_count": null,
   "id": "fb85a7ad",
   "metadata": {},
   "outputs": [],
   "source": []
  },
  {
   "cell_type": "code",
   "execution_count": 14,
   "id": "5769a1ad",
   "metadata": {},
   "outputs": [],
   "source": [
    "# Reverse S, G back to build testing env\n",
    "desc[S_loc[0]] = desc[S_loc[0]][:S_loc[1]]+'S'+desc[S_loc[0]][S_loc[1]+1:]\n",
    "desc[G_loc[0]] = desc[G_loc[0]][:G_loc[1]]+'G'+desc[G_loc[0]][G_loc[1]+1:]\n",
    "\n",
    "env = gym.make('FrozenLake-v1', desc=desc, is_slippery=False, render_mode = 'rgb_array')\n",
    "\n",
    "# calculate state of S and G\n",
    "S_state = S_loc[0] * n_dim + S_loc[1]\n",
    "G_state = G_loc[0] * n_dim + G_loc[1]\n",
    "\n",
    "# modify goal point at testing env\n",
    "# so that next state is affected by actions on goal point\n",
    "# and get reward if moving from goal point\n",
    "\n",
    "for a in range(env.action_space.n):\n",
    "    t_p_G = env_s.P[G_state][a][0]\n",
    "    goal_next_state = t_p_G[1]\n",
    "    if goal_next_state == G_state:\n",
    "        # if next state on state G is still state G, then terminated is True\n",
    "        # but prob, next_state, reward are the same as env_s.P[G_state][a][0]\n",
    "        env.P[G_state][a][0] = (t_p_G[0], t_p_G[1], t_p_G[2], True)\n",
    "    else:\n",
    "        # prob, next_state, reward, terminated are the same as env_s.P[G_state][a][0]\n",
    "        env.P[G_state][a][0] = t_p_G\n",
    "        \n",
    "        \n",
    "    \n",
    "def reverse_terminated(st, terminate_val, env = env, num_dim = n_dim):\n",
    "    \"\"\"\n",
    "    Args: st: S_state or G_state. Change S_state to a destination, then st = True and terminate_val = True\n",
    "    terminate_val: True or False. The updated value of terminated\n",
    "    \"\"\"\n",
    "    # if next state of a state when taking action a is st,\n",
    "    # reverse \"terminated\" at the state when taking action a to True or False\n",
    "    if (st - num_dim) in env.P.keys(): # the state  which take \"DOWN\" can reach st\n",
    "        env_P_val = env.P[st - num_dim][act_dict[\"DOWN\"]][0]\n",
    "        env.P[st - num_dim][act_dict[\"DOWN\"]][0] = (env_P_val[0], env_P_val[1], env_P_val[2], terminate_val)\n",
    "    if (st + num_dim) in env.P.keys(): # the state  which take \"UP\" can reach st\n",
    "        env_P_val = env.P[st + num_dim][act_dict[\"UP\"]][0]\n",
    "        env.P[st + num_dim][act_dict[\"UP\"]][0] = (env_P_val[0], env_P_val[1], env_P_val[2], terminate_val)\n",
    "    if (st -1) in env.P.keys(): # the state  which take \"RIGHT\" can reach st\n",
    "        env_P_val = env.P[st -1][act_dict[\"RIGHT\"]][0]\n",
    "        env.P[st - 1][act_dict[\"RIGHT\"]][0] = (env_P_val[0], env_P_val[1], env_P_val[2], terminate_val)\n",
    "    if (st +1) in env.P.keys(): # the state  which take \"LEFT\" can reach st\n",
    "        env_P_val = env.P[st + 1][act_dict[\"LEFT\"]][0]\n",
    "        env.P[st + 1][act_dict[\"LEFT\"]][0] = (env_P_val[0], env_P_val[1], env_P_val[2], terminate_val)\n",
    "    # if next state of st when taking action a is the same as st\n",
    "    # next state of taking action a on S leads to terminated == terminate_val\n",
    "    for a in range(env.action_space.n):\n",
    "        t_p_S = env.P[st][a][0]\n",
    "        if t_p_S[1] == st: \n",
    "            env.P[st][a][0] = (t_p_S[0], t_p_S[1], t_p_S[2], terminate_val) \n",
    "                \n",
    "    return env\n",
    "\n",
    "# datetime object containing current date and time\n",
    "now = datetime.now().strftime(\"%d-%m-%Y %H_%M_%S\")\n",
    "file_name = f\"Demo/epi_{n_epi}/kitty_qlearning-{n_dim}x{n_dim}map_{run_type}_{now}_{n_epi}_epi.gif\"\n",
    "\n",
    "\n",
    "def Demo_GIF(kitty, env = env, Q_k_food = Q_kitty_food, Q_k_home = Q_kitty_home, \\\n",
    "                     Q_g = Q_g, Q_s = Q_s, num_dim = n_dim, address = file_name, \\\n",
    "                     S_state = S_state, G_state = G_state, num_steps = n_steps):\n",
    "    \n",
    "    pics = []\n",
    "    # starting at elf heading for goal\n",
    "    state = env.reset()[0]\n",
    "    \n",
    "    env, kitty = to_original_component(env, kitty)\n",
    "    \n",
    "    if_goal = True # direction of elf. True when heading for goal. False when heading for starting point\n",
    "    \n",
    "    # reset kitty's location \n",
    "    kitty['k'][0], kitty['k'][1] = kitty['home'][0], kitty['home'][1]  \n",
    "    env.desc[kitty['k'][0], kitty['k'][1]] = b'K'\n",
    "    env.desc[kitty['food'][0], kitty['food'][1]] = b'C'\n",
    "    \n",
    "    num_collision = 0\n",
    "    \n",
    "    num_k_box = 0 # num of boxes delivered by kitty\n",
    "    num_e_box = 0 # num of boxes delivered by elf\n",
    "    \n",
    "    for i in range(num_steps):\n",
    "        pics.append(env.render())\n",
    "        \n",
    "        # choose kitty's action based on kitty's Q table first\n",
    "        env, kitty, num_k_box = kitty_move(env, kitty, num_dim, Q_k_food, Q_k_home, num_k_box)\n",
    "        \n",
    "        if if_goal == True:\n",
    "            # choose elf's action based on Q-table when heading to goal\n",
    "            action = np.argmax(Q_g[state]) \n",
    "            next_state, reward, terminated, truncated, info = env.step(action)\n",
    "\n",
    "            if terminated:\n",
    "                # number of boxes delivered by elf +1\n",
    "                num_e_box +=1\n",
    "                \n",
    "                # reverse direction\n",
    "                if_goal= False     \n",
    "                \n",
    "                # S is now the destination\n",
    "                env = reverse_terminated(S_state, terminate_val = True, env = env)\n",
    "                \n",
    "                # G is now the starting point\n",
    "                env = reverse_terminated(G_state, terminate_val = False, env = env)\n",
    "                    \n",
    "            \n",
    "        elif if_goal == False:\n",
    "           \n",
    "            # choose elf's action based on Q-table when heading to starting point\n",
    "            action = np.argmax(Q_s[state])\n",
    "            next_state, reward, terminated, truncated, info = env.step(action)\n",
    "\n",
    "            if terminated:  \n",
    "                # reverse direction\n",
    "                if_goal= True\n",
    "                # reverse \"terminated\" at starting point and goal point in testing env\n",
    "                # S is now the destination\n",
    "                env = reverse_terminated(S_state, terminate_val = False, env = env)\n",
    "                \n",
    "                # G is now the starting point\n",
    "                env = reverse_terminated(G_state, terminate_val = True, env = env)\n",
    "                \n",
    "        state = next_state\n",
    "        \n",
    "        k_state = kitty['k'][0] * num_dim + kitty['k'][1]\n",
    "        if k_state == state: # if kitty's state == elf's state, number of collision +1\n",
    "            num_collision += 1\n",
    "    \n",
    "    print(f'Number of collisions in {num_steps} steps when episode number is {n_epi}:', num_collision)\n",
    "    print(f'Number of boxes delivered by kitty:', num_k_box)\n",
    "    print(f'Number of boxes delivered by elf:', num_e_box)\n",
    "    print(f'Total number of boxes delivered:', (num_k_box+num_e_box))\n",
    "    print(f'Demo GIF is: {file_name}')\n",
    "    \n",
    "    pics.append(env.render())\n",
    "    env.close()\n",
    "\n",
    "    imageio.mimsave(address, pics)\n",
    "\n"
   ]
  },
  {
   "cell_type": "code",
   "execution_count": null,
   "id": "eef4e382",
   "metadata": {},
   "outputs": [],
   "source": []
  },
  {
   "cell_type": "code",
   "execution_count": 15,
   "id": "83e6791b",
   "metadata": {
    "scrolled": true
   },
   "outputs": [
    {
     "name": "stdout",
     "output_type": "stream",
     "text": [
      "Number of collisions in 200 steps when episode number is 200: 4\n",
      "Number of boxes delivered by kitty: 7\n",
      "Number of boxes delivered by elf: 5\n",
      "Total number of boxes delivered: 12\n",
      "Demo GIF is: Demo/epi_200/kitty_qlearning-14x14map_lifelong_26-05-2024 18_19_12_200_epi.gif\n"
     ]
    }
   ],
   "source": [
    "Demo_GIF(kitty_info)"
   ]
  },
  {
   "cell_type": "code",
   "execution_count": null,
   "id": "bd78c9ee",
   "metadata": {},
   "outputs": [],
   "source": []
  },
  {
   "cell_type": "code",
   "execution_count": null,
   "id": "fa83dc63",
   "metadata": {},
   "outputs": [],
   "source": []
  },
  {
   "cell_type": "code",
   "execution_count": null,
   "id": "d890d32c",
   "metadata": {},
   "outputs": [],
   "source": []
  },
  {
   "cell_type": "code",
   "execution_count": null,
   "id": "4a9c1073",
   "metadata": {},
   "outputs": [],
   "source": []
  },
  {
   "cell_type": "code",
   "execution_count": null,
   "id": "70f041fa",
   "metadata": {},
   "outputs": [],
   "source": []
  },
  {
   "cell_type": "code",
   "execution_count": null,
   "id": "dfb619ae",
   "metadata": {},
   "outputs": [],
   "source": []
  },
  {
   "cell_type": "code",
   "execution_count": null,
   "id": "fbc257a7",
   "metadata": {},
   "outputs": [],
   "source": []
  },
  {
   "cell_type": "code",
   "execution_count": null,
   "id": "3912daf5",
   "metadata": {},
   "outputs": [],
   "source": []
  },
  {
   "cell_type": "code",
   "execution_count": null,
   "id": "20a4ef8f",
   "metadata": {},
   "outputs": [],
   "source": []
  },
  {
   "cell_type": "code",
   "execution_count": null,
   "id": "9200b4da",
   "metadata": {},
   "outputs": [],
   "source": []
  },
  {
   "cell_type": "code",
   "execution_count": null,
   "id": "c0232abb",
   "metadata": {},
   "outputs": [],
   "source": []
  },
  {
   "cell_type": "code",
   "execution_count": null,
   "id": "6fd2bd48",
   "metadata": {},
   "outputs": [],
   "source": []
  },
  {
   "cell_type": "code",
   "execution_count": null,
   "id": "52fdec18",
   "metadata": {},
   "outputs": [],
   "source": []
  },
  {
   "cell_type": "code",
   "execution_count": null,
   "id": "21ebecb8",
   "metadata": {},
   "outputs": [],
   "source": []
  },
  {
   "cell_type": "code",
   "execution_count": null,
   "id": "3acd6529",
   "metadata": {},
   "outputs": [],
   "source": []
  },
  {
   "cell_type": "code",
   "execution_count": null,
   "id": "414d80c7",
   "metadata": {},
   "outputs": [],
   "source": []
  },
  {
   "cell_type": "code",
   "execution_count": null,
   "id": "6ee217ec",
   "metadata": {},
   "outputs": [],
   "source": []
  },
  {
   "cell_type": "code",
   "execution_count": null,
   "id": "371cbfb2",
   "metadata": {},
   "outputs": [],
   "source": []
  },
  {
   "cell_type": "code",
   "execution_count": null,
   "id": "e16babef",
   "metadata": {},
   "outputs": [],
   "source": []
  },
  {
   "cell_type": "code",
   "execution_count": null,
   "id": "454c1733",
   "metadata": {},
   "outputs": [],
   "source": []
  },
  {
   "cell_type": "code",
   "execution_count": null,
   "id": "a22f86fe",
   "metadata": {},
   "outputs": [],
   "source": []
  },
  {
   "cell_type": "code",
   "execution_count": null,
   "id": "4767d474",
   "metadata": {},
   "outputs": [],
   "source": []
  },
  {
   "cell_type": "code",
   "execution_count": null,
   "id": "6401d980",
   "metadata": {},
   "outputs": [],
   "source": []
  },
  {
   "cell_type": "code",
   "execution_count": null,
   "id": "81e16963",
   "metadata": {},
   "outputs": [],
   "source": []
  },
  {
   "cell_type": "code",
   "execution_count": null,
   "id": "b9e1bf82",
   "metadata": {},
   "outputs": [],
   "source": []
  },
  {
   "cell_type": "code",
   "execution_count": null,
   "id": "9d18d12f",
   "metadata": {},
   "outputs": [],
   "source": []
  },
  {
   "cell_type": "code",
   "execution_count": null,
   "id": "07e75784",
   "metadata": {},
   "outputs": [],
   "source": []
  },
  {
   "cell_type": "code",
   "execution_count": null,
   "id": "2c3554b8",
   "metadata": {},
   "outputs": [],
   "source": []
  },
  {
   "cell_type": "code",
   "execution_count": null,
   "id": "028e5774",
   "metadata": {},
   "outputs": [],
   "source": []
  },
  {
   "cell_type": "code",
   "execution_count": null,
   "id": "58b51567",
   "metadata": {},
   "outputs": [],
   "source": []
  },
  {
   "cell_type": "code",
   "execution_count": null,
   "id": "455c4438",
   "metadata": {},
   "outputs": [],
   "source": []
  },
  {
   "cell_type": "code",
   "execution_count": null,
   "id": "5c433fb4",
   "metadata": {},
   "outputs": [],
   "source": []
  },
  {
   "cell_type": "code",
   "execution_count": null,
   "id": "6ead07cc",
   "metadata": {},
   "outputs": [],
   "source": []
  },
  {
   "cell_type": "code",
   "execution_count": null,
   "id": "e4b56649",
   "metadata": {},
   "outputs": [],
   "source": []
  },
  {
   "cell_type": "code",
   "execution_count": null,
   "id": "70848e2a",
   "metadata": {},
   "outputs": [],
   "source": []
  },
  {
   "cell_type": "code",
   "execution_count": null,
   "id": "7f7ea0e6",
   "metadata": {},
   "outputs": [],
   "source": []
  },
  {
   "cell_type": "code",
   "execution_count": null,
   "id": "084da12c",
   "metadata": {},
   "outputs": [],
   "source": []
  },
  {
   "cell_type": "code",
   "execution_count": null,
   "id": "14c5240e",
   "metadata": {},
   "outputs": [],
   "source": []
  },
  {
   "cell_type": "code",
   "execution_count": null,
   "id": "4f77574a",
   "metadata": {},
   "outputs": [],
   "source": []
  },
  {
   "cell_type": "code",
   "execution_count": null,
   "id": "e958bae3",
   "metadata": {},
   "outputs": [],
   "source": []
  },
  {
   "cell_type": "code",
   "execution_count": null,
   "id": "d36bfa0d",
   "metadata": {},
   "outputs": [],
   "source": []
  },
  {
   "cell_type": "code",
   "execution_count": null,
   "id": "f62ec6bb",
   "metadata": {},
   "outputs": [],
   "source": []
  },
  {
   "cell_type": "code",
   "execution_count": null,
   "id": "0ce5ed50",
   "metadata": {},
   "outputs": [],
   "source": []
  },
  {
   "cell_type": "code",
   "execution_count": null,
   "id": "c40f5e11",
   "metadata": {},
   "outputs": [],
   "source": []
  },
  {
   "cell_type": "code",
   "execution_count": null,
   "id": "450a4fd8",
   "metadata": {},
   "outputs": [],
   "source": []
  },
  {
   "cell_type": "code",
   "execution_count": null,
   "id": "3b032d96",
   "metadata": {},
   "outputs": [],
   "source": []
  },
  {
   "cell_type": "code",
   "execution_count": null,
   "id": "0eb16fee",
   "metadata": {},
   "outputs": [],
   "source": []
  },
  {
   "cell_type": "code",
   "execution_count": null,
   "id": "a24eacb1",
   "metadata": {},
   "outputs": [],
   "source": []
  },
  {
   "cell_type": "code",
   "execution_count": null,
   "id": "21adca27",
   "metadata": {},
   "outputs": [],
   "source": []
  },
  {
   "cell_type": "code",
   "execution_count": null,
   "id": "63e6908d",
   "metadata": {},
   "outputs": [],
   "source": []
  },
  {
   "cell_type": "code",
   "execution_count": null,
   "id": "31ba01aa",
   "metadata": {},
   "outputs": [],
   "source": []
  },
  {
   "cell_type": "code",
   "execution_count": null,
   "id": "bce9e6fb",
   "metadata": {},
   "outputs": [],
   "source": []
  },
  {
   "cell_type": "code",
   "execution_count": null,
   "id": "94f4fedf",
   "metadata": {},
   "outputs": [],
   "source": []
  },
  {
   "cell_type": "code",
   "execution_count": null,
   "id": "abf50c84",
   "metadata": {},
   "outputs": [],
   "source": []
  },
  {
   "cell_type": "code",
   "execution_count": null,
   "id": "5a3963ed",
   "metadata": {},
   "outputs": [],
   "source": []
  },
  {
   "cell_type": "code",
   "execution_count": null,
   "id": "71edb65b",
   "metadata": {},
   "outputs": [],
   "source": []
  },
  {
   "cell_type": "code",
   "execution_count": null,
   "id": "9c253336",
   "metadata": {},
   "outputs": [],
   "source": []
  },
  {
   "cell_type": "code",
   "execution_count": null,
   "id": "9384f62e",
   "metadata": {},
   "outputs": [],
   "source": []
  },
  {
   "cell_type": "code",
   "execution_count": null,
   "id": "eb141994",
   "metadata": {},
   "outputs": [],
   "source": []
  },
  {
   "cell_type": "code",
   "execution_count": null,
   "id": "598619b2",
   "metadata": {},
   "outputs": [],
   "source": []
  },
  {
   "cell_type": "code",
   "execution_count": null,
   "id": "976fc214",
   "metadata": {},
   "outputs": [],
   "source": []
  },
  {
   "cell_type": "code",
   "execution_count": null,
   "id": "abcebc6c",
   "metadata": {},
   "outputs": [],
   "source": []
  },
  {
   "cell_type": "code",
   "execution_count": null,
   "id": "2b22dd76",
   "metadata": {},
   "outputs": [],
   "source": []
  },
  {
   "cell_type": "code",
   "execution_count": null,
   "id": "b5a0eae7",
   "metadata": {},
   "outputs": [],
   "source": []
  },
  {
   "cell_type": "code",
   "execution_count": null,
   "id": "f87912d3",
   "metadata": {},
   "outputs": [],
   "source": []
  },
  {
   "cell_type": "code",
   "execution_count": null,
   "id": "3dbab9e0",
   "metadata": {},
   "outputs": [],
   "source": []
  },
  {
   "cell_type": "code",
   "execution_count": null,
   "id": "3ff78f07",
   "metadata": {},
   "outputs": [],
   "source": []
  },
  {
   "cell_type": "code",
   "execution_count": null,
   "id": "c99d89fd",
   "metadata": {},
   "outputs": [],
   "source": []
  },
  {
   "cell_type": "code",
   "execution_count": null,
   "id": "0b11d6b6",
   "metadata": {},
   "outputs": [],
   "source": []
  },
  {
   "cell_type": "code",
   "execution_count": null,
   "id": "03a63c39",
   "metadata": {},
   "outputs": [],
   "source": []
  },
  {
   "cell_type": "code",
   "execution_count": null,
   "id": "41f74cbd",
   "metadata": {},
   "outputs": [],
   "source": []
  },
  {
   "cell_type": "code",
   "execution_count": null,
   "id": "d76a082e",
   "metadata": {},
   "outputs": [],
   "source": []
  },
  {
   "cell_type": "code",
   "execution_count": null,
   "id": "529add67",
   "metadata": {},
   "outputs": [],
   "source": []
  },
  {
   "cell_type": "code",
   "execution_count": null,
   "id": "d067cbdc",
   "metadata": {},
   "outputs": [],
   "source": []
  },
  {
   "cell_type": "code",
   "execution_count": null,
   "id": "88a82e21",
   "metadata": {},
   "outputs": [],
   "source": []
  },
  {
   "cell_type": "code",
   "execution_count": null,
   "id": "e97fdffa",
   "metadata": {},
   "outputs": [],
   "source": []
  },
  {
   "cell_type": "code",
   "execution_count": null,
   "id": "c37b6a03",
   "metadata": {},
   "outputs": [],
   "source": []
  },
  {
   "cell_type": "code",
   "execution_count": null,
   "id": "c4cd5005",
   "metadata": {},
   "outputs": [],
   "source": []
  },
  {
   "cell_type": "code",
   "execution_count": null,
   "id": "15976b5b",
   "metadata": {},
   "outputs": [],
   "source": []
  },
  {
   "cell_type": "code",
   "execution_count": null,
   "id": "08ae64c7",
   "metadata": {},
   "outputs": [],
   "source": []
  },
  {
   "cell_type": "code",
   "execution_count": null,
   "id": "35b030eb",
   "metadata": {},
   "outputs": [],
   "source": []
  },
  {
   "cell_type": "code",
   "execution_count": null,
   "id": "2f5f7d93",
   "metadata": {},
   "outputs": [],
   "source": []
  },
  {
   "cell_type": "code",
   "execution_count": null,
   "id": "2d15585f",
   "metadata": {},
   "outputs": [],
   "source": []
  },
  {
   "cell_type": "code",
   "execution_count": null,
   "id": "71114139",
   "metadata": {},
   "outputs": [],
   "source": []
  },
  {
   "cell_type": "code",
   "execution_count": null,
   "id": "4a648c50",
   "metadata": {},
   "outputs": [],
   "source": []
  },
  {
   "cell_type": "code",
   "execution_count": null,
   "id": "5b14c0f8",
   "metadata": {},
   "outputs": [],
   "source": []
  },
  {
   "cell_type": "code",
   "execution_count": null,
   "id": "64853e45",
   "metadata": {},
   "outputs": [],
   "source": []
  },
  {
   "cell_type": "code",
   "execution_count": null,
   "id": "d8254014",
   "metadata": {},
   "outputs": [],
   "source": []
  },
  {
   "cell_type": "code",
   "execution_count": null,
   "id": "d3fa9595",
   "metadata": {},
   "outputs": [],
   "source": []
  },
  {
   "cell_type": "code",
   "execution_count": null,
   "id": "ef20bd13",
   "metadata": {},
   "outputs": [],
   "source": []
  },
  {
   "cell_type": "code",
   "execution_count": null,
   "id": "5bbcebf5",
   "metadata": {},
   "outputs": [],
   "source": []
  },
  {
   "cell_type": "code",
   "execution_count": null,
   "id": "3df37af6",
   "metadata": {},
   "outputs": [],
   "source": []
  },
  {
   "cell_type": "code",
   "execution_count": null,
   "id": "661f8664",
   "metadata": {},
   "outputs": [],
   "source": []
  },
  {
   "cell_type": "code",
   "execution_count": null,
   "id": "f69c09a7",
   "metadata": {},
   "outputs": [],
   "source": []
  },
  {
   "cell_type": "code",
   "execution_count": null,
   "id": "158e34ed",
   "metadata": {},
   "outputs": [],
   "source": []
  },
  {
   "cell_type": "code",
   "execution_count": null,
   "id": "2433fcf4",
   "metadata": {},
   "outputs": [],
   "source": []
  },
  {
   "cell_type": "code",
   "execution_count": null,
   "id": "2e91ebe9",
   "metadata": {},
   "outputs": [],
   "source": []
  },
  {
   "cell_type": "code",
   "execution_count": null,
   "id": "2480e21f",
   "metadata": {},
   "outputs": [],
   "source": []
  },
  {
   "cell_type": "code",
   "execution_count": null,
   "id": "298dd47c",
   "metadata": {},
   "outputs": [],
   "source": []
  },
  {
   "cell_type": "code",
   "execution_count": null,
   "id": "05b4ecaf",
   "metadata": {},
   "outputs": [],
   "source": []
  },
  {
   "cell_type": "code",
   "execution_count": null,
   "id": "a376afb1",
   "metadata": {},
   "outputs": [],
   "source": []
  },
  {
   "cell_type": "code",
   "execution_count": null,
   "id": "b6550081",
   "metadata": {},
   "outputs": [],
   "source": []
  },
  {
   "cell_type": "code",
   "execution_count": null,
   "id": "dbc172b0",
   "metadata": {},
   "outputs": [],
   "source": []
  },
  {
   "cell_type": "code",
   "execution_count": null,
   "id": "46d03661",
   "metadata": {},
   "outputs": [],
   "source": []
  },
  {
   "cell_type": "code",
   "execution_count": null,
   "id": "62697a4c",
   "metadata": {},
   "outputs": [],
   "source": []
  },
  {
   "cell_type": "code",
   "execution_count": null,
   "id": "4e6432c6",
   "metadata": {},
   "outputs": [],
   "source": []
  },
  {
   "cell_type": "code",
   "execution_count": null,
   "id": "f9a38dd8",
   "metadata": {},
   "outputs": [],
   "source": []
  },
  {
   "cell_type": "code",
   "execution_count": null,
   "id": "1ace002d",
   "metadata": {},
   "outputs": [],
   "source": []
  },
  {
   "cell_type": "code",
   "execution_count": null,
   "id": "43a08b90",
   "metadata": {},
   "outputs": [],
   "source": []
  },
  {
   "cell_type": "code",
   "execution_count": null,
   "id": "b36308e5",
   "metadata": {},
   "outputs": [],
   "source": []
  },
  {
   "cell_type": "code",
   "execution_count": null,
   "id": "beaf4cfc",
   "metadata": {},
   "outputs": [],
   "source": []
  },
  {
   "cell_type": "code",
   "execution_count": null,
   "id": "c3c9af17",
   "metadata": {},
   "outputs": [],
   "source": []
  },
  {
   "cell_type": "code",
   "execution_count": null,
   "id": "c2fccbe2",
   "metadata": {},
   "outputs": [],
   "source": []
  },
  {
   "cell_type": "code",
   "execution_count": null,
   "id": "23a6aea1",
   "metadata": {},
   "outputs": [],
   "source": []
  },
  {
   "cell_type": "code",
   "execution_count": null,
   "id": "8a5dc1d3",
   "metadata": {},
   "outputs": [],
   "source": []
  },
  {
   "cell_type": "code",
   "execution_count": null,
   "id": "8581cb96",
   "metadata": {},
   "outputs": [],
   "source": []
  },
  {
   "cell_type": "code",
   "execution_count": null,
   "id": "d6bc156e",
   "metadata": {},
   "outputs": [],
   "source": []
  },
  {
   "cell_type": "code",
   "execution_count": null,
   "id": "efc892fa",
   "metadata": {},
   "outputs": [],
   "source": []
  },
  {
   "cell_type": "code",
   "execution_count": null,
   "id": "3b187e54",
   "metadata": {},
   "outputs": [],
   "source": []
  },
  {
   "cell_type": "code",
   "execution_count": null,
   "id": "2214ae0f",
   "metadata": {},
   "outputs": [],
   "source": []
  },
  {
   "cell_type": "code",
   "execution_count": null,
   "id": "64fc899a",
   "metadata": {},
   "outputs": [],
   "source": []
  },
  {
   "cell_type": "code",
   "execution_count": null,
   "id": "aa522b14",
   "metadata": {},
   "outputs": [],
   "source": []
  },
  {
   "cell_type": "code",
   "execution_count": null,
   "id": "25aea91e",
   "metadata": {},
   "outputs": [],
   "source": []
  },
  {
   "cell_type": "code",
   "execution_count": null,
   "id": "bb70234a",
   "metadata": {},
   "outputs": [],
   "source": []
  },
  {
   "cell_type": "code",
   "execution_count": null,
   "id": "82b4ac1e",
   "metadata": {},
   "outputs": [],
   "source": []
  },
  {
   "cell_type": "code",
   "execution_count": null,
   "id": "372d3d8a",
   "metadata": {},
   "outputs": [],
   "source": []
  },
  {
   "cell_type": "code",
   "execution_count": null,
   "id": "b61bce32",
   "metadata": {},
   "outputs": [],
   "source": []
  },
  {
   "cell_type": "code",
   "execution_count": null,
   "id": "b5082a1d",
   "metadata": {},
   "outputs": [],
   "source": []
  },
  {
   "cell_type": "code",
   "execution_count": null,
   "id": "89669e72",
   "metadata": {},
   "outputs": [],
   "source": []
  },
  {
   "cell_type": "code",
   "execution_count": null,
   "id": "015e93de",
   "metadata": {},
   "outputs": [],
   "source": []
  },
  {
   "cell_type": "code",
   "execution_count": null,
   "id": "b6ca2394",
   "metadata": {},
   "outputs": [],
   "source": []
  },
  {
   "cell_type": "code",
   "execution_count": null,
   "id": "de4e803d",
   "metadata": {},
   "outputs": [],
   "source": []
  },
  {
   "cell_type": "code",
   "execution_count": null,
   "id": "35d90137",
   "metadata": {},
   "outputs": [],
   "source": []
  },
  {
   "cell_type": "code",
   "execution_count": null,
   "id": "39c12b28",
   "metadata": {},
   "outputs": [],
   "source": []
  },
  {
   "cell_type": "code",
   "execution_count": null,
   "id": "6a99a1c0",
   "metadata": {},
   "outputs": [],
   "source": []
  },
  {
   "cell_type": "code",
   "execution_count": null,
   "id": "0362b9cc",
   "metadata": {},
   "outputs": [],
   "source": []
  },
  {
   "cell_type": "code",
   "execution_count": null,
   "id": "58eecf60",
   "metadata": {},
   "outputs": [],
   "source": []
  },
  {
   "cell_type": "code",
   "execution_count": null,
   "id": "954a6756",
   "metadata": {},
   "outputs": [],
   "source": []
  },
  {
   "cell_type": "code",
   "execution_count": null,
   "id": "695f4f02",
   "metadata": {},
   "outputs": [],
   "source": []
  },
  {
   "cell_type": "code",
   "execution_count": null,
   "id": "c5eaf493",
   "metadata": {},
   "outputs": [],
   "source": []
  },
  {
   "cell_type": "code",
   "execution_count": null,
   "id": "41fb2d4f",
   "metadata": {},
   "outputs": [],
   "source": []
  },
  {
   "cell_type": "code",
   "execution_count": null,
   "id": "8ba4e012",
   "metadata": {},
   "outputs": [],
   "source": []
  },
  {
   "cell_type": "code",
   "execution_count": null,
   "id": "1f747f45",
   "metadata": {},
   "outputs": [],
   "source": []
  },
  {
   "cell_type": "code",
   "execution_count": null,
   "id": "b582036a",
   "metadata": {},
   "outputs": [],
   "source": []
  },
  {
   "cell_type": "code",
   "execution_count": null,
   "id": "7578b136",
   "metadata": {},
   "outputs": [],
   "source": []
  },
  {
   "cell_type": "code",
   "execution_count": null,
   "id": "1e86804e",
   "metadata": {},
   "outputs": [],
   "source": []
  },
  {
   "cell_type": "code",
   "execution_count": null,
   "id": "0da7da4a",
   "metadata": {},
   "outputs": [],
   "source": []
  },
  {
   "cell_type": "code",
   "execution_count": null,
   "id": "fead9dbf",
   "metadata": {},
   "outputs": [],
   "source": []
  },
  {
   "cell_type": "code",
   "execution_count": null,
   "id": "b423f749",
   "metadata": {},
   "outputs": [],
   "source": []
  },
  {
   "cell_type": "code",
   "execution_count": null,
   "id": "10736411",
   "metadata": {},
   "outputs": [],
   "source": []
  },
  {
   "cell_type": "code",
   "execution_count": null,
   "id": "fdb4d7f7",
   "metadata": {},
   "outputs": [],
   "source": []
  },
  {
   "cell_type": "code",
   "execution_count": null,
   "id": "baa0e1c3",
   "metadata": {},
   "outputs": [],
   "source": []
  },
  {
   "cell_type": "code",
   "execution_count": null,
   "id": "99f0c050",
   "metadata": {},
   "outputs": [],
   "source": []
  },
  {
   "cell_type": "code",
   "execution_count": null,
   "id": "7dc563a2",
   "metadata": {},
   "outputs": [],
   "source": []
  },
  {
   "cell_type": "code",
   "execution_count": null,
   "id": "8ef316c1",
   "metadata": {},
   "outputs": [],
   "source": []
  },
  {
   "cell_type": "code",
   "execution_count": null,
   "id": "79a7a622",
   "metadata": {},
   "outputs": [],
   "source": []
  },
  {
   "cell_type": "code",
   "execution_count": null,
   "id": "e40f21f9",
   "metadata": {},
   "outputs": [],
   "source": []
  },
  {
   "cell_type": "code",
   "execution_count": null,
   "id": "adb2e740",
   "metadata": {},
   "outputs": [],
   "source": []
  },
  {
   "cell_type": "code",
   "execution_count": null,
   "id": "df29f292",
   "metadata": {},
   "outputs": [],
   "source": []
  },
  {
   "cell_type": "code",
   "execution_count": null,
   "id": "e135f601",
   "metadata": {},
   "outputs": [],
   "source": []
  },
  {
   "cell_type": "code",
   "execution_count": null,
   "id": "fc80ace7",
   "metadata": {},
   "outputs": [],
   "source": []
  },
  {
   "cell_type": "code",
   "execution_count": null,
   "id": "a055c885",
   "metadata": {},
   "outputs": [],
   "source": []
  },
  {
   "cell_type": "code",
   "execution_count": null,
   "id": "50fdfe9e",
   "metadata": {},
   "outputs": [],
   "source": []
  },
  {
   "cell_type": "code",
   "execution_count": null,
   "id": "ef41e1d3",
   "metadata": {},
   "outputs": [],
   "source": []
  },
  {
   "cell_type": "code",
   "execution_count": null,
   "id": "b14b3123",
   "metadata": {},
   "outputs": [],
   "source": []
  },
  {
   "cell_type": "code",
   "execution_count": null,
   "id": "ae7cc4f1",
   "metadata": {},
   "outputs": [],
   "source": []
  },
  {
   "cell_type": "code",
   "execution_count": null,
   "id": "0fd32369",
   "metadata": {},
   "outputs": [],
   "source": []
  }
 ],
 "metadata": {
  "kernelspec": {
   "display_name": "Python 3 (ipykernel)",
   "language": "python",
   "name": "python3"
  },
  "language_info": {
   "codemirror_mode": {
    "name": "ipython",
    "version": 3
   },
   "file_extension": ".py",
   "mimetype": "text/x-python",
   "name": "python",
   "nbconvert_exporter": "python",
   "pygments_lexer": "ipython3",
   "version": "3.9.13"
  }
 },
 "nbformat": 4,
 "nbformat_minor": 5
}
